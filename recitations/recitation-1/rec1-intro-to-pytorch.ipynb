{
 "cells": [
  {
   "cell_type": "markdown",
   "metadata": {},
   "source": [
    "# Recitation 1 - Intro to PyTorch\n",
    "\n",
    "Reference: https://towardsdatascience.com/understanding-pytorch-with-an-example-a-step-by-step-tutorial-81fc5f8c4e8e\n",
    "\n",
    "TA: Xingjia Wang\n",
    "\n",
    "xw400@rutgers.edu"
   ]
  },
  {
   "cell_type": "code",
   "execution_count": null,
   "metadata": {},
   "outputs": [],
   "source": [
    "## Install PyTorch. Skip if you already have it installed.\n",
    "!pip install torch numpy matplotlib"
   ]
  },
  {
   "cell_type": "code",
   "execution_count": 2,
   "metadata": {},
   "outputs": [],
   "source": [
    "## Import libraries (import torch first to prevent kernel crashes)\n",
    "import torch\n",
    "import torch.optim as optim                                 # torch.optim is a module that includes various optimization algorithms.\n",
    "import torch.nn as nn                                       # torch.nn is a module for building neural network layers.\n",
    "import numpy as np\n",
    "import matplotlib.pyplot as plt\n",
    "\n",
    "# Random seed setting\n",
    "np.random.seed(42)"
   ]
  },
  {
   "cell_type": "markdown",
   "metadata": {},
   "source": [
    "## What is PyTorch, and what can it do?\n",
    "\n",
    "PyTorch is the fastest growing Deep Learning framework that enables:\n",
    "- Tensor computation (like NumPy) with strong GPU acceleration\n",
    "- Deep neural networks built on a tape-based autograd system\n"
   ]
  },
  {
   "cell_type": "markdown",
   "metadata": {},
   "source": [
    "## Task: Simple Linear Regression\n",
    "\n",
    "Let's see how PyTorch can help us solve a predictive problem using the most **simple linear regression model**. \n",
    "\n",
    "As you recall from your intro to statistics class, a **simple linear regression model** assumes that the observed data sample $y_1, y_2, ..., y_n$ follows the following structure:\n",
    "\n",
    "$$\n",
    "y_i = a + bx_i + \\epsilon_i, \\quad \\epsilon_i \\sim N(0,1).\n",
    "$$"
   ]
  },
  {
   "cell_type": "markdown",
   "metadata": {},
   "source": [
    "## Data Generation\n",
    "\n",
    "Let's start by creating some synthetic data to work with. The following code block does the following:\n",
    "\n",
    "1. We generate $x_1, x_2, ..., x_{100}$ with each $x_i \\sim \\text{Uniform}(0,1)$. \n",
    "2. We let $a = 1$ and $b = 2$.\n",
    "3. We create $y_1, y_2, ..., y_{100}$ by setting $y_i = 1 + 2x_i + \\epsilon_i$, where $\\epsilon_i$ is some standard Gaussian noise.\n",
    "\n",
    "**Let's run the following block.**"
   ]
  },
  {
   "cell_type": "code",
   "execution_count": 3,
   "metadata": {},
   "outputs": [],
   "source": [
    "# Data Generation\n",
    "x = np.random.rand(100, 1)                              # np.random.rand generates random samples from a uniform distribution over [0, 1).\n",
    "                                                        # the resulting dimension of vector x will be 100 x 1.\n",
    "y = 1 + 2 * x + .1 * np.random.randn(100, 1)            # np.random.randn generates random samples from a standard normal distribution."
   ]
  },
  {
   "cell_type": "markdown",
   "metadata": {},
   "source": [
    "## Train-validation Split\n",
    "\n",
    "Now we do a train-validation split, by randomly picking 80% of the indices as the train set and the rest as validation.\n",
    "**Let's run the following block.**"
   ]
  },
  {
   "cell_type": "code",
   "execution_count": 4,
   "metadata": {},
   "outputs": [],
   "source": [
    "# Shuffles the indices\n",
    "idx = np.arange(100)\n",
    "np.random.shuffle(idx)\n",
    "\n",
    "# Uses first 80 random indices for train\n",
    "train_idx = idx[:80]\n",
    "# Uses the remaining indices for validation\n",
    "val_idx = idx[80:]\n",
    "\n",
    "# Generates train and validation sets\n",
    "x_train, y_train = x[train_idx], y[train_idx]\n",
    "x_val, y_val = x[val_idx], y[val_idx]"
   ]
  },
  {
   "cell_type": "code",
   "execution_count": 5,
   "metadata": {},
   "outputs": [
    {
     "data": {
      "image/png": "[encoded data removed]",
      "text/plain": [
       "<Figure size 720x360 with 2 Axes>"
      ]
     },
     "metadata": {
      "needs_background": "light"
     },
     "output_type": "display_data"
    }
   ],
   "source": [
    "## Below shows a plot of the two sets of data.\n",
    "\n",
    "fig, axes = plt.subplots(nrows=1, ncols=2, figsize=(10, 5))\n",
    "axes[0].scatter(x_train, y_train, c = 'darkblue')\n",
    "axes[0].set_xlabel('x')\n",
    "axes[0].set_ylabel('y')\n",
    "axes[0].set_title('Generated Data - Train')\n",
    "axes[1].scatter(x_val, y_val, c = 'darkred')\n",
    "axes[1].set_xlabel('x')\n",
    "axes[1].set_title('Generated Data - Validation')\n",
    "plt.show()"
   ]
  },
  {
   "cell_type": "markdown",
   "metadata": {},
   "source": [
    "## Moving to PyTorch\n",
    "\n",
    "We hope to fit a regression model to the above data through a neural network. We will be building this neural network in **PyTorch** in the next section."
   ]
  },
  {
   "cell_type": "code",
   "execution_count": 6,
   "metadata": {},
   "outputs": [],
   "source": [
    "\n",
    "### TODO: Our data was in Numpy arrays, but we need to transform them into PyTorch's Tensors. ###\n",
    "x_train_tensor =   \n",
    "y_train_tensor = \n",
    "\n",
    "# note: .to(device) if GPU."
   ]
  },
  {
   "cell_type": "code",
   "execution_count": 7,
   "metadata": {},
   "outputs": [
    {
     "name": "stdout",
     "output_type": "stream",
     "text": [
      "<class 'numpy.ndarray'> <class 'torch.Tensor'> torch.DoubleTensor\n"
     ]
    }
   ],
   "source": [
    "# Here we can see the difference - notice that .type() is more useful\n",
    "# since it also tells us WHERE the tensor is (device)\n",
    "print(type(x_train), type(x_train_tensor), x_train_tensor.type())"
   ]
  },
  {
   "cell_type": "markdown",
   "metadata": {},
   "source": [
    "## Parameter Estimation via Gradient Descent\n",
    "\n",
    "We know that the true $a = 1$ and $b = 2$, but now let’s see how close we can get to the true values by using **gradient descent** and the 80 points in the training set.\n",
    "\n",
    "Note: if we use all data points $\\{(y_i, x_i)\\}_{i=1}^N$ in the training set to compute the loss, we are performing a **batch gradient descent**. If we were to use a single, randomly picked point $(y_i, x_i)$ at each time, it would be a **stochastic gradient descent**. Anything else in-between characterizes a **mini-batch gradient descent**."
   ]
  },
  {
   "cell_type": "markdown",
   "metadata": {},
   "source": [
    "### Initialize Parameters and Require Gradients"
   ]
  },
  {
   "cell_type": "code",
   "execution_count": 8,
   "metadata": {},
   "outputs": [
    {
     "name": "stdout",
     "output_type": "stream",
     "text": [
      "tensor([1.6390], requires_grad=True) tensor([-0.6285], requires_grad=True)\n"
     ]
    }
   ],
   "source": [
    "# Initializes parameters \"a\" and \"b\" randomly, ALMOST as we did in Numpy\n",
    "# since we want to apply gradient descent on these parameters, we need\n",
    "# to set REQUIRES_GRAD = TRUE\n",
    "\n",
    "### TODO: Initialize parameters... ###\n",
    "a = \n",
    "b = \n",
    "### ---------------------- ###\n",
    "\n",
    "print(a, b)"
   ]
  },
  {
   "cell_type": "markdown",
   "metadata": {},
   "source": [
    "### Gradient Computation with **Autograd**\n",
    "\n",
    "Autograd is PyTorch’s automatic differentiation package, which refrains us from manually computing all the gradients.\n",
    "\n",
    "- The backward() method helps us to compute partial derivatives of the loss function w.r.t. our parameters.\n",
    "- We obtain the computed gradients via the .grad attribute."
   ]
  },
  {
   "cell_type": "code",
   "execution_count": 9,
   "metadata": {},
   "outputs": [
    {
     "name": "stdout",
     "output_type": "stream",
     "text": [
      "tensor([-1.2234])\n",
      "tensor([-1.0651])\n"
     ]
    }
   ],
   "source": [
    "# Specifying a learning rate\n",
    "lr = 1e-1\n",
    "\n",
    "### TODO: implement the following... ###\n",
    "yhat = \n",
    "error = \n",
    "loss = \n",
    "### ---------------------- ###\n",
    "\n",
    "# We just tell PyTorch to work its way BACKWARDS from the specified loss!\n",
    "loss.backward()\n",
    "# Let's check the computed gradients...\n",
    "print(a.grad)\n",
    "print(b.grad)"
   ]
  },
  {
   "cell_type": "markdown",
   "metadata": {},
   "source": [
    "To update the parameters, we need to use torch.no_grad() to perform regular Python operations on tensors, independent of PyTorch’s computation graph. \n",
    "\n",
    "After updating, we need to clear the gradients calculated in this past step to avoid them from accumulating via the zero_() method."
   ]
  },
  {
   "cell_type": "code",
   "execution_count": 10,
   "metadata": {},
   "outputs": [
    {
     "data": {
      "text/plain": [
       "tensor([0.])"
      ]
     },
     "execution_count": 10,
     "metadata": {},
     "output_type": "execute_result"
    }
   ],
   "source": [
    "### TODO: update the parameters ###\n",
    "### ---------------------- ###\n",
    "\n",
    "### TODO: PyTorch is \"clingy\" to its computed gradients, we need to tell it to let it go... ###\n",
    "### ---------------------- ###"
   ]
  },
  {
   "cell_type": "markdown",
   "metadata": {},
   "source": [
    "Putting everything together,"
   ]
  },
  {
   "cell_type": "code",
   "execution_count": 11,
   "metadata": {},
   "outputs": [
    {
     "name": "stdout",
     "output_type": "stream",
     "text": [
      "tensor([-0.8781])\n",
      "tensor([-0.8820])\n",
      "tensor([0.0383])\n",
      "tensor([-0.0750])\n",
      "tensor([0.0084])\n",
      "tensor([-0.0164])\n",
      "tensor([0.0018])\n",
      "tensor([-0.0036])\n",
      "tensor([0.0004])\n",
      "tensor([-0.0008])\n",
      "tensor([8.6969e-05])\n",
      "tensor([-0.0002])\n",
      "tensor([1.9059e-05])\n",
      "tensor([-3.6987e-05])\n",
      "tensor([4.2216e-06])\n",
      "tensor([-8.0911e-06])\n",
      "tensor([9.6973e-07])\n",
      "tensor([-1.8024e-06])\n",
      "tensor([5.4949e-07])\n",
      "tensor([-5.7005e-07])\n",
      "tensor([1.0235], requires_grad=True) tensor([1.9690], requires_grad=True)\n"
     ]
    }
   ],
   "source": [
    "n_epochs = 1000\n",
    "\n",
    "for epoch in range(n_epochs):\n",
    "    yhat = a + b * x_train_tensor\n",
    "    error = y_train_tensor - yhat\n",
    "    loss = (error ** 2).mean()\n",
    "\n",
    "    # No more manual computation of gradients! \n",
    "    # a_grad = -2 * error.mean()\n",
    "    # b_grad = -2 * (x_tensor * error).mean()\n",
    "\n",
    "    ### TODO: We just tell PyTorch to work its way BACKWARDS from the specified loss! ###\n",
    "    ### ---------------------- ###\n",
    "\n",
    "    # Let's check the computed gradients...\n",
    "    if epoch % 100 == 0:\n",
    "        print(a.grad)\n",
    "        print(b.grad)\n",
    "    \n",
    "    ### TODO: Updating the parameters ###\n",
    "    ### ---------------------- ###\n",
    "\n",
    "    \n",
    "print(a, b)"
   ]
  },
  {
   "cell_type": "markdown",
   "metadata": {},
   "source": [
    "### Update All Parameters Simultaneously with **Optimizer**\n",
    "\n",
    "Previously, we’ve been manually updating the parameters using the computed gradients. That’s probably fine for two parameters… but what if we had a whole lot of them?! We use one of PyTorch’s optimizers, like SGD or Adam.\n",
    "\n",
    "An optimizer takes the parameters we want to update, the learning rate we want to use (and possibly many other hyper-parameters as well!) and performs the updates through its step() method.\n",
    "\n",
    "Besides, we also don’t need to zero the gradients one by one anymore. We just invoke the optimizer’s zero_grad() method and that’s it!\n",
    "\n",
    "In the code below, we create a Stochastic Gradient Descent (SGD) optimizer to update our parameters a and b."
   ]
  },
  {
   "cell_type": "code",
   "execution_count": 12,
   "metadata": {},
   "outputs": [
    {
     "name": "stdout",
     "output_type": "stream",
     "text": [
      "Initializations: a = tensor([-0.8814], requires_grad=True), b = tensor([1.1271], requires_grad=True)\n",
      "Output: a = tensor([1.0235], requires_grad=True), b = tensor([1.9690], requires_grad=True)\n"
     ]
    }
   ],
   "source": [
    "a = torch.randn(1, requires_grad=True)\n",
    "b = torch.randn(1, requires_grad=True)\n",
    "print(\"Initializations: a = {}, b = {}\".format(a, b))\n",
    "\n",
    "lr = 1e-1\n",
    "n_epochs = 1000\n",
    "\n",
    "\n",
    "### TODO: Defines a SGD optimizer to update the parameters ###\n",
    "optimizer = \n",
    "### ---------------------- ###\n",
    "\n",
    "for epoch in range(n_epochs):\n",
    "    yhat = a + b * x_train_tensor\n",
    "    error = y_train_tensor - yhat\n",
    "    loss = (error ** 2).mean()\n",
    "\n",
    "    loss.backward()    \n",
    "    \n",
    "    # No more manual update!\n",
    "    # with torch.no_grad():\n",
    "    #     a -= lr * a.grad\n",
    "    #     b -= lr * b.grad\n",
    "\n",
    "    ### TODO: perform the update via step() ###\n",
    "    ### ---------------------- ###\n",
    "\n",
    "    # No more telling PyTorch to let gradients go!\n",
    "    # a.grad.zero_()\n",
    "    # b.grad.zero_()\n",
    "\n",
    "    ### TODO: clearing the gradient ###\n",
    "    ### ---------------------- ###\n",
    "    \n",
    "print(\"Output: a = {}, b = {}\".format(a, b))"
   ]
  },
  {
   "cell_type": "markdown",
   "metadata": {},
   "source": [
    "### Loss Computation\n",
    "\n",
    "Once again, PyTorch get us covered for loss functions, and we don't have to manually write out the expressions. There are many loss functions to choose from, depending on the task at hand. Since ours is a regression, we are using the Mean Square Error (MSE) loss."
   ]
  },
  {
   "cell_type": "code",
   "execution_count": 13,
   "metadata": {},
   "outputs": [
    {
     "name": "stdout",
     "output_type": "stream",
     "text": [
      "Initializations: a = tensor([-0.6824], requires_grad=True), b = tensor([-0.5733], requires_grad=True)\n",
      "Output: a = tensor([1.0235], requires_grad=True), b = tensor([1.9690], requires_grad=True)\n"
     ]
    }
   ],
   "source": [
    "a = torch.randn(1, requires_grad=True)\n",
    "b = torch.randn(1, requires_grad=True)\n",
    "print(\"Initializations: a = {}, b = {}\".format(a, b))\n",
    "\n",
    "lr = 1e-1\n",
    "n_epochs = 1000\n",
    "\n",
    "### TODO: Defines a MSE loss function ###\n",
    "loss_fn = \n",
    "### ---------------------- ###\n",
    "\n",
    "optimizer = optim.SGD([a, b], lr=lr)\n",
    "\n",
    "for epoch in range(n_epochs):\n",
    "    yhat = a + b * x_train_tensor\n",
    "    \n",
    "    # No more manual loss!\n",
    "    # error = y_tensor - yhat\n",
    "    # loss = (error ** 2).mean()\n",
    "\n",
    "    ### TODO: Incorporate loss function ###\n",
    "    loss = \n",
    "    ### ---------------------- ###\n",
    "\n",
    "    loss.backward()    \n",
    "    \n",
    "    optimizer.step()\n",
    "    optimizer.zero_grad()\n",
    "    \n",
    "print(\"Output: a = {}, b = {}\".format(a, b))"
   ]
  },
  {
   "cell_type": "markdown",
   "metadata": {},
   "source": [
    "## Model Building\n",
    "\n",
    "In PyTorch, a model is represented by a regular Python class that inherits from the Module class.\n",
    "\n",
    "The most fundamental methods it needs to implement are:\n",
    "\n",
    "- \\_\\_init\\_\\_(self): it defines the parts that make up the model —in our case, two parameters, $a$ and $b$.\n",
    "- forward(self, x): it performs the actual computation, that is, it outputs a prediction, given the input $x$.\n",
    "\n",
    "Let’s build a proper (yet simple) model for our regression task. It should look like this:"
   ]
  },
  {
   "cell_type": "code",
   "execution_count": 14,
   "metadata": {},
   "outputs": [],
   "source": [
    "### TODO: Define the following class ###\n",
    "class ManualLinearRegression(nn.Module):\n",
    "    def __init__(self):\n",
    "        \n",
    "    def forward(self, x):\n",
    "\n",
    "### ---------------------- ###"
   ]
  },
  {
   "cell_type": "markdown",
   "metadata": {},
   "source": [
    "By wrapping our parameters as nn.Parameter objects, we can use our model’s parameters() method to retrieve an iterator over all model’s parameters, even those parameters of nested models, that we can use to feed our optimizer (instead of building a list of parameters ourselves!).\n",
    "\n",
    "Moreover, we can get the current values for all parameters using our model’s state_dict() method.\n",
    "\n",
    "Now, putting these methods all together, we can re-write our code as the following: "
   ]
  },
  {
   "cell_type": "code",
   "execution_count": 38,
   "metadata": {},
   "outputs": [
    {
     "name": "stdout",
     "output_type": "stream",
     "text": [
      "OrderedDict([('a', tensor([-0.2573])), ('b', tensor([1.4762]))])\n",
      "OrderedDict([('a', tensor([1.0235])), ('b', tensor([1.9690]))])\n"
     ]
    }
   ],
   "source": [
    "# Now we can create a model and send it at once to the device\n",
    "model = ManualLinearRegression()\n",
    "# We can also inspect its parameters using its state_dict\n",
    "print(model.state_dict())\n",
    "\n",
    "lr = 1e-1\n",
    "n_epochs = 1000\n",
    "\n",
    "loss_fn = nn.MSELoss(reduction='mean')\n",
    "optimizer = optim.SGD(model.parameters(), lr=lr)\n",
    "\n",
    "for epoch in range(n_epochs):\n",
    "    # In PyTorch, models have a train() method which, somewhat disappointingly, \n",
    "    # does NOT perform a training step. Its only purpose is to set the model to training mode.\n",
    "    \n",
    "    ### TODO: enter training mode ###\n",
    "    ### ---------------------- ###\n",
    "\n",
    "    # No more manual prediction!\n",
    "    # yhat = a + b * x_tensor\n",
    "\n",
    "    ### TODO: auto prediction ###\n",
    "    yhat =\n",
    "    ### ---------------------- ###\n",
    "    \n",
    "    loss = loss_fn(y_train_tensor, yhat)\n",
    "    loss.backward()    \n",
    "    optimizer.step()\n",
    "    optimizer.zero_grad()\n",
    "    \n",
    "print(model.state_dict())"
   ]
  },
  {
   "cell_type": "markdown",
   "metadata": {},
   "source": [
    "### **Making the Training Step More Generic (Optional)\n",
    "\n",
    "So far, we’ve defined an **optimizer**, a **loss function** and a **model**. We now want to generalize these processes as a **training step**, so that the code could be more organized when training on batches.\n",
    "\n",
    "We write a function that takes those three elements and returns another function that performs a training step, taking a set of features and labels as arguments and returning the corresponding loss. Then, we can use this general-purpose function to build a train_step() function to be called inside our training loop. \n",
    "\n",
    "Now our code should look like this… see how tiny the training loop is now?"
   ]
  },
  {
   "cell_type": "code",
   "execution_count": null,
   "metadata": {},
   "outputs": [],
   "source": [
    "### TODO: implement the following function to generalize training step. ###\n",
    "def make_train_step(model, loss_fn, optimizer):\n",
    "    # Builds function that performs a step in the train loop\n",
    "    def train_step(x, y):\n",
    "        \n",
    "    \n",
    "    # Returns the function that will be called inside the train loop\n",
    "    return train_step\n",
    "### ---------------------- ###"
   ]
  },
  {
   "cell_type": "code",
   "execution_count": 39,
   "metadata": {},
   "outputs": [
    {
     "name": "stdout",
     "output_type": "stream",
     "text": [
      "OrderedDict([('a', tensor([1.0235])), ('b', tensor([1.9690]))])\n"
     ]
    }
   ],
   "source": [
    "# Creates the train_step function for our model, loss function and optimizer\n",
    "train_step = make_train_step(model, loss_fn, optimizer)\n",
    "losses = []\n",
    "\n",
    "# For each epoch...\n",
    "for epoch in range(n_epochs):\n",
    "    # Performs one train step and returns the corresponding loss\n",
    "    loss = train_step(x_train_tensor, y_train_tensor)\n",
    "    losses.append(loss)\n",
    "    \n",
    "# Checks model's parameters\n",
    "print(model.state_dict())"
   ]
  },
  {
   "cell_type": "markdown",
   "metadata": {},
   "source": [
    "### Utilizing Package-Defined Layers\n",
    "\n",
    "For simple tasks like building a linear regression, we could directly utilize the basic building blocks defined in the package's torch.nn module. \n",
    "\n",
    "In our previous model, we manually created two parameters to perform a linear regression. Let’s use PyTorch’s Linear model as an attribute of our own, thus creating a nested model. \n",
    "\n",
    "To do so, we could simply just replace the parameters with nn.Linear(input, output)."
   ]
  },
  {
   "cell_type": "code",
   "execution_count": 29,
   "metadata": {},
   "outputs": [],
   "source": [
    "class NestedLinearRegression(nn.Module):\n",
    "    def __init__(self):\n",
    "        super().__init__()\n",
    "        \n",
    "        ### TODO: Instead of our custom parameters, we use a Linear layer with single input and single output ###\n",
    "        self.linear = nn.Linear(1, 1)\n",
    "        ### ---------------------- ###\n",
    "                \n",
    "    def forward(self, x):\n",
    "        ### TODO: Now it only takes a call to the layer to make predictions ###\n",
    "        return \n",
    "        ### ---------------------- ###"
   ]
  },
  {
   "cell_type": "markdown",
   "metadata": {},
   "source": [
    "Now, if we call the parameters() method of this model, PyTorch will figure the parameters of its attributes in a recursive way."
   ]
  },
  {
   "cell_type": "code",
   "execution_count": 30,
   "metadata": {},
   "outputs": [
    {
     "name": "stdout",
     "output_type": "stream",
     "text": [
      "linear.weight tensor([[-0.0493]])\n",
      "linear.bias tensor([-0.9734])\n"
     ]
    }
   ],
   "source": [
    "for name, param in NestedLinearRegression().named_parameters():\n",
    "    if param.requires_grad:\n",
    "        print(name, param.data)"
   ]
  },
  {
   "cell_type": "markdown",
   "metadata": {},
   "source": [
    "Alternatively, if we don't even want to create a class for this simple task, we could also just use nn.Sequential."
   ]
  },
  {
   "cell_type": "code",
   "execution_count": 40,
   "metadata": {},
   "outputs": [],
   "source": [
    "seqmodel =  ### TODO: define with nn.Sequential ###"
   ]
  },
  {
   "cell_type": "code",
   "execution_count": 41,
   "metadata": {},
   "outputs": [
    {
     "name": "stdout",
     "output_type": "stream",
     "text": [
      "0.weight tensor([[0.9826]])\n",
      "0.bias tensor([0.2325])\n"
     ]
    }
   ],
   "source": [
    "for name, param in seqmodel.named_parameters():\n",
    "    if param.requires_grad:\n",
    "        print(name, param.data)"
   ]
  },
  {
   "cell_type": "markdown",
   "metadata": {},
   "source": [
    "### Models With Hidden Layers\n",
    "\n",
    "![One Layer Neural Network](one-layer-nn.png)\n",
    "\n",
    "Remember the XOR-problem in lecture 2? Now, does the code in the class notes make more sense to you?\n",
    "\n",
    "The below builds a feedforward neural network with 1 layer."
   ]
  },
  {
   "cell_type": "code",
   "execution_count": 42,
   "metadata": {},
   "outputs": [],
   "source": [
    "## one hidden layer neural net\n",
    "class HiddenLayerLinearRegression(nn.Module):\n",
    "    def __init__(self, input_dim, hidden_dim):\n",
    "        super().__init__()\n",
    "\n",
    "        ### TODO: Write a sequential model with one hidden layer ###\n",
    "        self.sequential = \n",
    "        ### ---------------------- ###\n",
    "\n",
    "    def forward(self, x):\n",
    "        y = self.sequential(x)\n",
    "        return y\n",
    "        \n",
    "    # def loss_fn(self, y, y_pred):\n",
    "    #     loss = y * torch.log(y_pred + 1e-8) + (1-y) * torch.log(1-y_pred + 1e-8)\n",
    "    #     output = -loss.sum()\n",
    "    #     return output\n"
   ]
  },
  {
   "cell_type": "markdown",
   "metadata": {},
   "source": [
    "In the graph above, we have a 2-dimensional input, a 2-dimensional hidden layer and a 1-dimensional of output. How many parameters would we end up having?"
   ]
  },
  {
   "cell_type": "code",
   "execution_count": 43,
   "metadata": {},
   "outputs": [
    {
     "name": "stdout",
     "output_type": "stream",
     "text": [
      "sequential.0.weight tensor([[-0.1374, -0.0386],\n",
      "        [-0.0058, -0.0886]])\n",
      "sequential.0.bias tensor([-0.1542,  0.3182])\n",
      "sequential.2.weight tensor([[-0.0983,  0.4479]])\n",
      "sequential.2.bias tensor([0.1999])\n"
     ]
    }
   ],
   "source": [
    "for name, param in HiddenLayerLinearRegression(2,2).named_parameters():\n",
    "    if param.requires_grad:\n",
    "        print(name, param.data)"
   ]
  },
  {
   "cell_type": "markdown",
   "metadata": {},
   "source": [
    "### Storing the Data in Datasets\n",
    "\n",
    "Until now, we have used the whole training data at every training step. It has been batch gradient descent all along. This is fine for our ridiculously small data, sure, but for much larger data, we must use mini-batch gradient descent. Thus, we need mini-batches. Thus, we need to slice our data accordingly. \n",
    "\n",
    "To do so, we first introduce the Dataset class, where we can store our features and labels. We can either use a preset TensorDataset class, or build our own customized Dataset."
   ]
  },
  {
   "cell_type": "code",
   "execution_count": 44,
   "metadata": {},
   "outputs": [
    {
     "name": "stdout",
     "output_type": "stream",
     "text": [
      "(tensor([0.7713], dtype=torch.float64), tensor([2.4745], dtype=torch.float64))\n"
     ]
    }
   ],
   "source": [
    "from torch.utils.data import TensorDataset\n",
    "\n",
    "### TODO: wrap our data in the preset TensorDataset class ###\n",
    "train_data = \n",
    "### ---------------------- ###\n",
    "\n",
    "print(train_data[0])"
   ]
  },
  {
   "cell_type": "markdown",
   "metadata": {},
   "source": [
    "### Dataloader \n",
    "\n",
    "Now we introduce how we build mini-batches for batch gradient descent with PyTorch’s DataLoader class. We tell it which dataset to use (the one we just built in the previous section), the desired mini-batch size and if we’d like to shuffle it or not. That’s it!\n",
    "\n",
    "Our loader will behave like an iterator, so we can loop over it and fetch a different mini-batch every time."
   ]
  },
  {
   "cell_type": "code",
   "execution_count": 45,
   "metadata": {},
   "outputs": [],
   "source": [
    "from torch.utils.data import DataLoader\n",
    "\n",
    "### TODO: Load our dataset into Dataloader for batch calculations ###\n",
    "train_loader = \n",
    "### ---------------------- ###"
   ]
  },
  {
   "cell_type": "markdown",
   "metadata": {},
   "source": [
    "To retrieve a sample mini-batch, the following will return a list containing two tensors: one for the features, another one for the labels."
   ]
  },
  {
   "cell_type": "code",
   "execution_count": 46,
   "metadata": {},
   "outputs": [
    {
     "data": {
      "text/plain": [
       "[tensor([[0.9507],\n",
       "         [0.7852],\n",
       "         [0.1409],\n",
       "         [0.1560],\n",
       "         [0.8324],\n",
       "         [0.6842],\n",
       "         [0.5248],\n",
       "         [0.9869],\n",
       "         [0.7722],\n",
       "         [0.6075],\n",
       "         [0.5979],\n",
       "         [0.1220],\n",
       "         [0.9696],\n",
       "         [0.1960],\n",
       "         [0.6376],\n",
       "         [0.3585]], dtype=torch.float64),\n",
       " tensor([[2.8715],\n",
       "         [2.5283],\n",
       "         [1.1211],\n",
       "         [1.2901],\n",
       "         [2.6119],\n",
       "         [2.3492],\n",
       "         [2.0167],\n",
       "         [3.0520],\n",
       "         [2.4208],\n",
       "         [2.4037],\n",
       "         [2.0407],\n",
       "         [1.2406],\n",
       "         [2.8401],\n",
       "         [1.4393],\n",
       "         [2.1930],\n",
       "         [1.7462]], dtype=torch.float64)]"
      ]
     },
     "execution_count": 46,
     "metadata": {},
     "output_type": "execute_result"
    }
   ],
   "source": [
    "next(iter(train_loader))"
   ]
  },
  {
   "cell_type": "markdown",
   "metadata": {},
   "source": [
    "Putting this into our training loop yields:"
   ]
  },
  {
   "cell_type": "code",
   "execution_count": 47,
   "metadata": {},
   "outputs": [
    {
     "name": "stdout",
     "output_type": "stream",
     "text": [
      "OrderedDict([('a', tensor([1.0260])), ('b', tensor([1.9699]))])\n"
     ]
    }
   ],
   "source": [
    "losses = []\n",
    "train_step = make_train_step(model, loss_fn, optimizer)\n",
    "\n",
    "for epoch in range(n_epochs):\n",
    "\n",
    "    ### TODO: Iterate train step and append loss over batches ###\n",
    "    ### ---------------------- ### \n",
    "\n",
    "print(model.state_dict())"
   ]
  },
  {
   "cell_type": "markdown",
   "metadata": {},
   "source": [
    "### Easier Train-Validation Split via random_split()\n",
    "\n",
    "The Dataset class also allows us to do the train-validation split in a quicker way. To do so, we just need to call random_split() on the whole Dataset object and specify the proportions."
   ]
  },
  {
   "cell_type": "code",
   "execution_count": 48,
   "metadata": {},
   "outputs": [],
   "source": [
    "from torch.utils.data.dataset import random_split\n",
    "\n",
    "x_tensor = torch.from_numpy(x)\n",
    "y_tensor = torch.from_numpy(y)\n",
    "\n",
    "dataset = TensorDataset(x_tensor, y_tensor)\n",
    "\n",
    "### TODO: train-val split with random_split on the whole dataset ###\n",
    "train_dataset, val_dataset = \n",
    "\n",
    "train_loader = \n",
    "val_loader = \n",
    "### ---------------------- ###"
   ]
  },
  {
   "cell_type": "markdown",
   "metadata": {},
   "source": [
    "### Evaluation\n",
    "\n",
    "This is the last part of our journey — we need to change the training loop to include the evaluation of our model, that is, computing the validation loss. \n",
    "\n",
    "- Step 1: Include another inner loop to handle the mini-batches that come from the validation loader, sending them to the same device as our model. \n",
    "- Step 2: Make predictions using our model and compute the corresponding loss."
   ]
  },
  {
   "cell_type": "code",
   "execution_count": 49,
   "metadata": {},
   "outputs": [
    {
     "name": "stdout",
     "output_type": "stream",
     "text": [
      "OrderedDict([('a', tensor([1.0328])), ('b', tensor([1.9385]))])\n"
     ]
    }
   ],
   "source": [
    "losses = []\n",
    "val_losses = []                                                 # This is new!\n",
    "train_step = make_train_step(model, loss_fn, optimizer)\n",
    "\n",
    "for epoch in range(n_epochs):\n",
    "    for x_batch, y_batch in train_loader:\n",
    "        # send to device if needed\n",
    "        loss = train_step(x_batch, y_batch)\n",
    "        losses.append(loss)\n",
    "\n",
    "    ### TODO: perform validation ###    \n",
    "    ### ---------------------- ###\n",
    "    \n",
    "\n",
    "print(model.state_dict())"
   ]
  },
  {
   "cell_type": "markdown",
   "metadata": {},
   "source": [
    "Two small important things to note:\n",
    "\n",
    "- torch.no_grad(): even though it won’t make a difference in our simple model, it is a good practice to wrap the validation inner loop with this context manager to disable any gradient calculation that you may inadvertently trigger — gradients belong in training, not in validation steps;\n",
    "- eval(): the only thing it does is setting the model to evaluation mode (just like its train() counterpart did), so the model can adjust its behavior regarding some operations, like Dropout.\n",
    "\n",
    "Further optimizations: using a learning rate scheduler, etc."
   ]
  }
 ],
 "metadata": {
  "kernelspec": {
   "display_name": "base",
   "language": "python",
   "name": "python3"
  },
  "language_info": {
   "codemirror_mode": {
    "name": "ipython",
    "version": 3
   },
   "file_extension": ".py",
   "mimetype": "text/x-python",
   "name": "python",
   "nbconvert_exporter": "python",
   "pygments_lexer": "ipython3",
   "version": "3.9.7"
  },
  "orig_nbformat": 4
 },
 "nbformat": 4,
 "nbformat_minor": 2
}
