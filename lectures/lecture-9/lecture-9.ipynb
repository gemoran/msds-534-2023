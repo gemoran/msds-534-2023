{
 "cells": [
  {
   "cell_type": "code",
   "execution_count": 185,
   "metadata": {},
   "outputs": [
    {
     "data": {
      "text/plain": [
       "<torch._C.Generator at 0x7f84dbf9fb70>"
      ]
     },
     "execution_count": 185,
     "metadata": {},
     "output_type": "execute_result"
    }
   ],
   "source": [
    "\n",
    "import torch\n",
    "import torch.nn as nn\n",
    "import torch.optim as optim\n",
    "import numpy as np\n",
    "import matplotlib.pyplot as plt\n",
    "import scipy\n",
    "\n",
    "torch.manual_seed(42)\n"
   ]
  },
  {
   "cell_type": "markdown",
   "metadata": {},
   "source": [
    "## Simple A/B test"
   ]
  },
  {
   "cell_type": "code",
   "execution_count": 195,
   "metadata": {},
   "outputs": [
    {
     "name": "stdout",
     "output_type": "stream",
     "text": [
      "P-Value: 0.1700\n"
     ]
    },
    {
     "data": {
      "image/png": "[encoded data removed]",
      "text/plain": [
       "<Figure size 640x480 with 1 Axes>"
      ]
     },
     "metadata": {},
     "output_type": "display_data"
    }
   ],
   "source": [
    "n_sim = 500\n",
    "\n",
    "my_viewsA = 98\n",
    "my_viewsB = 162\n",
    "all_views = my_viewsA + my_viewsB\n",
    "\n",
    "n_impsA = 1000\n",
    "n_impsB = 2000\n",
    "all_imps = n_impsA + n_impsB\n",
    "\n",
    "obs_T = abs(my_viewsA/n_impsA - my_viewsB/n_impsB)\n",
    "\n",
    "resampled_Ts = np.zeros(n_sim)\n",
    "\n",
    "for cur_sim in range(n_sim):\n",
    "    # Pool with 1s for views and 0s for non-views\n",
    "    pool = np.array([1]*all_views + [0]*(all_imps - all_views))\n",
    "    \n",
    "    # Sample without replacement for impsA\n",
    "    impsA = np.random.choice(pool, n_impsA, replace=False)\n",
    "    viewsA = np.sum(impsA)\n",
    "    viewsB = all_views - viewsA\n",
    "    \n",
    "    resampled_Ts[cur_sim] = abs(viewsA/n_impsA - viewsB/n_impsB)\n",
    "\n",
    "p_value = sum([1 for t in resampled_Ts if t >= obs_T]) / n_sim\n",
    "\n",
    "print(f\"P-Value: {p_value:.4f}\")\n",
    "\n",
    "\n",
    "plt.hist(resampled_Ts, bins=20)\n",
    "plt.axvline(obs_T, color='red')\n",
    "plt.show()\n",
    "\n"
   ]
  },
  {
   "cell_type": "markdown",
   "metadata": {},
   "source": [
    "## Independence test with neural networks"
   ]
  },
  {
   "cell_type": "code",
   "execution_count": 186,
   "metadata": {},
   "outputs": [],
   "source": [
    "class NNet(nn.Module):\n",
    "    def __init__(self, in_dim, out_dim):\n",
    "        super(NNet, self).__init__()\n",
    "        self.sequential = nn.Sequential(\n",
    "            nn.Linear(in_dim, 2*in_dim),\n",
    "            nn.ReLU(),\n",
    "            nn.Linear(2*in_dim, out_dim))\n",
    "\n",
    "    def forward(self, x):\n",
    "        return self.sequential(x)"
   ]
  },
  {
   "cell_type": "code",
   "execution_count": 187,
   "metadata": {},
   "outputs": [],
   "source": [
    "\n",
    "p1 = 5\n",
    "p2 = 3\n",
    "\n",
    "signal_strength = 1.2\n",
    "\n",
    "n_samples = 400\n",
    "\n",
    "X = np.random.randn(n_samples, p1)\n",
    "\n",
    "B = np.random.randn(p2, p1)\n",
    "B = B / np.linalg.norm(B, ord='fro')\n",
    "\n",
    "Y = signal_strength * np.sign(X) @ B.T + np.random.randn(n_samples, p2)\n",
    "\n",
    "X = torch.tensor(X, dtype=torch.float32)\n",
    "Y = torch.tensor(Y, dtype=torch.float32)"
   ]
  },
  {
   "cell_type": "code",
   "execution_count": 188,
   "metadata": {},
   "outputs": [
    {
     "data": {
      "image/png": "[encoded data removed]",
      "text/plain": [
       "<Figure size 640x480 with 1 Axes>"
      ]
     },
     "metadata": {},
     "output_type": "display_data"
    },
    {
     "name": "stdout",
     "output_type": "stream",
     "text": [
      "Original Test Statistic (Training Error): 0.9851\n",
      "P-Value: 0.0000\n"
     ]
    }
   ],
   "source": [
    "def trainerr(x, y, epochs=200):\n",
    "    net = NNet(p1, p2)\n",
    "\n",
    "    optimizer = optim.Adam(net.parameters(), lr=0.2)\n",
    "    for epoch in range(epochs):\n",
    "        optimizer.zero_grad()\n",
    "        outputs = net(x)\n",
    "        \n",
    "        loss = nn.MSELoss(reduction='mean')(outputs, y)\n",
    "        loss.backward()\n",
    "        optimizer.step()\n",
    "    return loss.item()\n",
    "\n",
    "\n",
    "obs_T = trainerr(X, Y)\n",
    "\n",
    "# Perform permutation testing\n",
    "n_permutations = 200\n",
    "resampled_Ts = []\n",
    "\n",
    "for _ in range(n_permutations):\n",
    "    permuted_Y = Y[torch.randperm(n_samples)]\n",
    "\n",
    "    resampled_T = trainerr(X, permuted_Y)\n",
    "    \n",
    "    resampled_Ts.append(resampled_T)\n",
    "\n",
    "# Calculate p-value\n",
    "p_value = sum([1 for t in resampled_Ts if t <= obs_T]) / n_permutations\n",
    "\n",
    "# plot distribution of permuted_test_statistics\n",
    "plt.hist(resampled_Ts, bins=20)\n",
    "plt.axvline(obs_T, color='red')\n",
    "plt.show()\n",
    "\n",
    "\n",
    "print(f\"Original Test Statistic (Training Error): {obs_T:.4f}\")\n",
    "print(f\"P-Value: {p_value:.4f}\")\n",
    "\n"
   ]
  },
  {
   "cell_type": "code",
   "execution_count": 189,
   "metadata": {},
   "outputs": [
    {
     "name": "stdout",
     "output_type": "stream",
     "text": [
      "Mean test error: 3.8477\n",
      "Null mean test error: 4.2937\n"
     ]
    },
    {
     "data": {
      "image/png": "[encoded data removed]",
      "text/plain": [
       "<Figure size 640x480 with 1 Axes>"
      ]
     },
     "metadata": {},
     "output_type": "display_data"
    },
    {
     "name": "stdout",
     "output_type": "stream",
     "text": [
      "P-Value: 0.0980\n"
     ]
    }
   ],
   "source": [
    "## sample split\n",
    "ntrain = int(n_samples * 0.5)\n",
    "ntest = n_samples - ntrain\n",
    "\n",
    "X_train = X[:ntrain]\n",
    "X_test = X[ntrain:]\n",
    "\n",
    "Y_train = Y[:ntrain]\n",
    "Y_test = Y[ntrain:]\n",
    "\n",
    "net = NNet(p1, p2)\n",
    "\n",
    "epochs = 1000\n",
    "optimizer = optim.SGD(net.parameters(), lr=0.2)\n",
    "for epoch in range(epochs):\n",
    "    optimizer.zero_grad()\n",
    "    outputs = net(X_train)\n",
    "        \n",
    "    loss = nn.MSELoss(reduction='mean')(outputs, Y_train)\n",
    "    loss.backward()\n",
    "    optimizer.step()\n",
    "\n",
    "\n",
    "testerrs = torch.sum((Y_test - net(X_test))**2, dim=1)\n",
    "mean_testerr = torch.mean(testerrs)\n",
    "\n",
    "null_testerrs = torch.sum((Y_test - torch.mean(Y_train, dim=0))**2, dim=1)\n",
    "null_mean_testerr = torch.mean( null_testerrs )\n",
    "\n",
    "\n",
    "print(f\"Mean test error: {mean_testerr:.4f}\")\n",
    "print(f\"Null mean test error: {null_mean_testerr:.4f}\")\n",
    "\n",
    "\n",
    "obs_T = mean_testerr - null_mean_testerr\n",
    "\n",
    "\n",
    "combined = torch.cat([testerrs, null_testerrs])\n",
    "n_permutations = 500\n",
    "resampled_Ts = []\n",
    "for _ in range(n_permutations):\n",
    "    permuted_combined = combined[torch.randperm(ntest*2)]\n",
    "    permuted_testerrs = permuted_combined[:ntest]\n",
    "    permuted_null_testerrs = permuted_combined[ntest:]\n",
    "    \n",
    "    resampled_T = torch.mean(permuted_testerrs) - torch.mean(permuted_null_testerrs)\n",
    "    resampled_Ts.append(resampled_T)\n",
    "\n",
    "## Calculate p-value\n",
    "p_value = sum([1 for t in resampled_Ts if t <= obs_T]) / n_permutations\n",
    "\n",
    "resampled_Ts = [t.detach().numpy() for t in resampled_Ts]\n",
    "plt.hist(resampled_Ts, bins=20)\n",
    "plt.axvline(obs_T.detach().numpy(), color='red')\n",
    "plt.show()\n",
    "\n",
    "print(f\"P-Value: {p_value:.4f}\")\n"
   ]
  },
  {
   "cell_type": "code",
   "execution_count": null,
   "metadata": {},
   "outputs": [],
   "source": []
  }
 ],
 "metadata": {
  "kernelspec": {
   "display_name": "msds534",
   "language": "python",
   "name": "python3"
  },
  "language_info": {
   "codemirror_mode": {
    "name": "ipython",
    "version": 3
   },
   "file_extension": ".py",
   "mimetype": "text/x-python",
   "name": "python",
   "nbconvert_exporter": "python",
   "pygments_lexer": "ipython3",
   "version": "3.10.13"
  },
  "orig_nbformat": 4
 },
 "nbformat": 4,
 "nbformat_minor": 2
}
