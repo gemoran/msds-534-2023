{
 "cells": [
  {
   "cell_type": "code",
   "execution_count": 318,
   "metadata": {},
   "outputs": [],
   "source": [
    "from transformers import BertTokenizer, BertModel\n",
    "from torch import nn\n",
    "import torch\n",
    "import pandas as pd\n",
    "import numpy as np\n",
    "import matplotlib.pyplot as plt"
   ]
  },
  {
   "cell_type": "markdown",
   "metadata": {},
   "source": [
    "### Example of tokenization\n",
    "\n",
    "You must convert text to tokens before inputting it into BERT. "
   ]
  },
  {
   "cell_type": "code",
   "execution_count": 319,
   "metadata": {},
   "outputs": [
    {
     "name": "stdout",
     "output_type": "stream",
     "text": [
      "tensor([[ 101, 7592, 2088,  102]])\n",
      "tensor([[1, 1, 1, 1]])\n",
      "[CLS] hello world [SEP]\n"
     ]
    }
   ],
   "source": [
    "tokenizer = BertTokenizer.from_pretrained('bert-base-uncased')\n",
    "\n",
    "example_text = \"Hello world\"\n",
    "\n",
    "token_res = tokenizer(example_text, return_tensors='pt')\n",
    "\n",
    "print(token_res['input_ids']) ## vector of token IDs\n",
    "print(token_res['attention_mask']) ## vector of 0/1 to indicate real tokens vs padding tokens\n",
    "\n",
    "out_text = tokenizer.decode(token_res['input_ids'][0])\n",
    "print(out_text)"
   ]
  },
  {
   "cell_type": "markdown",
   "metadata": {},
   "source": [
    "### Wine dataset\n",
    "\n",
    "Dataset has 120K wines. We focus on the variables *description* and *price*."
   ]
  },
  {
   "cell_type": "code",
   "execution_count": 352,
   "metadata": {},
   "outputs": [
    {
     "name": "stdout",
     "output_type": "stream",
     "text": [
      "(120975, 14)\n",
      "Description:  This is ripe and fruity, a wine that is smooth while still structured. Firm tannins are filled out with juicy red berry fruits and freshened with acidity. It's  already drinkable, although it will certainly be better from 2016.\n",
      "Price:  15.0\n",
      "Description:  Tart and snappy, the flavors of lime flesh and rind dominate. Some green pineapple pokes through, with crisp acidity underscoring the flavors. The wine was all stainless-steel fermented.\n",
      "Price:  14.0\n",
      "Description:  Pineapple rind, lemon pith and orange blossom start off the aromas. The palate is a bit more opulent, with notes of honey-drizzled guava and mango giving way to a slightly astringent, semidry finish.\n",
      "Price:  13.0\n",
      "Most expensive wine:  This ripe wine shows plenty of blackberry fruits balanced well with some dry tannins. It is fresh, juicy with plenty of acidity, For a light vintage, it's perfumed, full of fresh flavors and will be ready to drink from 2017.\n",
      "Price:  3300.0\n"
     ]
    },
    {
     "data": {
      "text/plain": [
       "{'whiskers': [<matplotlib.lines.Line2D at 0x7f9b18ae5300>,\n",
       "  <matplotlib.lines.Line2D at 0x7f9b18ae55a0>],\n",
       " 'caps': [<matplotlib.lines.Line2D at 0x7f9b18ae5840>,\n",
       "  <matplotlib.lines.Line2D at 0x7f9b18ae5ae0>],\n",
       " 'boxes': [<matplotlib.lines.Line2D at 0x7f9b18ae5060>],\n",
       " 'medians': [<matplotlib.lines.Line2D at 0x7f9b18ae5d80>],\n",
       " 'fliers': [<matplotlib.lines.Line2D at 0x7f9b18ae6020>],\n",
       " 'means': []}"
      ]
     },
     "execution_count": 352,
     "metadata": {},
     "output_type": "execute_result"
    },
    {
     "data": {
      "image/png": "[encoded data removed]",
      "text/plain": [
       "<Figure size 640x480 with 1 Axes>"
      ]
     },
     "metadata": {},
     "output_type": "display_data"
    }
   ],
   "source": [
    "wine_df = pd.read_csv(\"wines.csv\")\n",
    "\n",
    "## keep only wines whose price is not NaN\n",
    "wine_df = wine_df[wine_df['price'].notna()]\n",
    "\n",
    "print(wine_df.shape)\n",
    "\n",
    "## key variables: price, description\n",
    "for i in range(3):\n",
    "    print(\"Description: \", wine_df['description'].iloc[i])\n",
    "    print(\"Price: \", wine_df['price'].iloc[i])\n",
    "\n",
    "## find the wine with the highest price\n",
    "max_price_idx = wine_df['price'].argmax()\n",
    "print(\"Most expensive wine: \", wine_df['description'].iloc[max_price_idx])\n",
    "print(\"Price: \", wine_df['price'].iloc[max_price_idx])\n",
    "\n",
    "## make box-plot of prices\n",
    "plt.boxplot(np.log(wine_df['price']))\n"
   ]
  },
  {
   "cell_type": "code",
   "execution_count": 353,
   "metadata": {},
   "outputs": [],
   "source": [
    "class textClassDataset(torch.utils.data.Dataset):\n",
    "    def __init__(self, df, tokenizer, max_len):\n",
    "        self.df = df\n",
    "        self.tokenizer = tokenizer\n",
    "        self.max_len = max_len\n",
    "\n",
    "    def __len__(self):\n",
    "        return len(self.df)\n",
    "    \n",
    "    def __getitem__(self, idx):\n",
    "        description = self.df.iloc[idx]['description']\n",
    "        price = self.df.iloc[idx]['price']\n",
    "        price = torch.tensor(price, dtype=torch.float32)\n",
    "        encoded_text = self.tokenizer(description, return_tensors='pt', max_length=self.max_len, \n",
    "                                      padding='max_length', truncation=True)\n",
    "        return encoded_text, price\n"
   ]
  },
  {
   "cell_type": "code",
   "execution_count": 332,
   "metadata": {},
   "outputs": [
    {
     "name": "stdout",
     "output_type": "stream",
     "text": [
      "training data size: 60487\n"
     ]
    }
   ],
   "source": [
    "dataset = textClassDataset(wine_df, tokenizer, 128)\n",
    "\n",
    "## split into train and test datasets\n",
    "train_size = int(0.5 * len(dataset))\n",
    "test_size = len(dataset) - train_size\n",
    "\n",
    "train_dataset, test_dataset = torch.utils.data.random_split(dataset, [train_size, test_size])\n",
    "\n",
    "print(\"training data size: \" + str(len(train_dataset)))\n",
    "\n",
    "## create dataloaders\n",
    "train_dataloader = torch.utils.data.DataLoader(train_dataset, batch_size=10, shuffle=True)"
   ]
  },
  {
   "cell_type": "code",
   "execution_count": 333,
   "metadata": {},
   "outputs": [],
   "source": [
    "class BertRegressor(nn.Module):\n",
    "    def __init__(self):\n",
    "        super(BertRegressor, self).__init__()\n",
    "        self.bert = BertModel.from_pretrained('bert-base-uncased')\n",
    "\n",
    "        ## for bert-base-uncased, hidden_size is 768\n",
    "        self.layer1 = nn.Linear(self.bert.config.hidden_size, 1)\n",
    "\n",
    "    def forward(self, input_ids, attention_mask):\n",
    "        bert_outputs = self.bert(input_ids=input_ids, attention_mask=attention_mask)\n",
    "        pooled_output = bert_outputs[1]\n",
    "\n",
    "        x = self.layer1(pooled_output)\n",
    "        x = x.squeeze(1)\n",
    "        return x\n",
    "    "
   ]
  },
  {
   "cell_type": "code",
   "execution_count": 334,
   "metadata": {},
   "outputs": [],
   "source": [
    "model = BertRegressor()\n",
    "\n",
    "## IMPORTANT:\n",
    "## freeze bert parameters so that we only update the\n",
    "## prediction head\n",
    "for param in model.bert.parameters():\n",
    "    param.requires_grad = False\n",
    "\n",
    "loss_fn = nn.MSELoss()\n",
    "optimizer = torch.optim.Adam(filter(lambda p: p.requires_grad, model.parameters()), \n",
    "                             lr=1e-3)\n",
    "\n",
    "num_epochs = 1\n",
    "\n",
    "model.train()\n",
    "it = 0\n"
   ]
  },
  {
   "cell_type": "markdown",
   "metadata": {},
   "source": [
    "## Training\n",
    "\n",
    "* Even 1 epoch of training takes about 2 hours.\n",
    "* It takes time for BERT to process each tokenized sentence.\n",
    "* You can skip the training to directly load from the saved model parameter file."
   ]
  },
  {
   "cell_type": "code",
   "execution_count": 335,
   "metadata": {},
   "outputs": [
    {
     "name": "stdout",
     "output_type": "stream",
     "text": [
      "sgd iter: 1000\n",
      "sgd iter: 2000\n",
      "sgd iter: 3000\n",
      "sgd iter: 4000\n",
      "sgd iter: 5000\n",
      "sgd iter: 6000\n",
      "Epoch: 0, Loss: 0.3123812675476074\n"
     ]
    }
   ],
   "source": [
    "for epoch in range(num_epochs):\n",
    "\n",
    "    for batch in train_dataloader:\n",
    "\n",
    "        input_ids = batch[0]['input_ids'].squeeze(1)\n",
    "        attention_mask = batch[0]['attention_mask']\n",
    "        logprice = np.log(batch[1])\n",
    "\n",
    "        pred = model(input_ids, attention_mask)\n",
    "        loss = loss_fn(pred, logprice)\n",
    "        loss.backward()\n",
    "        optimizer.step()\n",
    "\n",
    "        optimizer.zero_grad()\n",
    "        \n",
    "        it = it + 1\n",
    "        if (it % 1000 == 0):\n",
    "            print(\"sgd iter: \" + str(it))\n",
    "    print(\"Epoch: {}, Loss: {}\".format(epoch, loss.item()))"
   ]
  },
  {
   "cell_type": "code",
   "execution_count": 375,
   "metadata": {},
   "outputs": [],
   "source": [
    "## save model parameters\n",
    "torch.save(model.state_dict(), \"fine-tuned-bert.pt\")"
   ]
  },
  {
   "cell_type": "code",
   "execution_count": 376,
   "metadata": {},
   "outputs": [
    {
     "data": {
      "text/plain": [
       "<All keys matched successfully>"
      ]
     },
     "execution_count": 376,
     "metadata": {},
     "output_type": "execute_result"
    }
   ],
   "source": [
    "## load model\n",
    "model.load_state_dict(torch.load(\"fine-tuned-bert.pt\"))"
   ]
  },
  {
   "cell_type": "code",
   "execution_count": 354,
   "metadata": {},
   "outputs": [
    {
     "name": "stdout",
     "output_type": "stream",
     "text": [
      "MSE: 0.3721877336502075   Test R-squared: 0.15866295258618945\n"
     ]
    }
   ],
   "source": [
    "## calculate testing error\n",
    "## takes about 2 minutes to run\n",
    "\n",
    "model.eval()\n",
    "mse = 0\n",
    "\n",
    "n_test = 600\n",
    "\n",
    "y_test = np.array([np.log(test_dataset[i][1]) for i in range(n_test)])\n",
    "\n",
    "for i in range(n_test):\n",
    "    pred = model(test_dataset[i][0]['input_ids'], test_dataset[i][0]['attention_mask'])\n",
    "    mse = mse + (pred - y_test[i])**2\n",
    "\n",
    "mse = mse / n_test\n",
    "\n",
    "print(\"MSE:\", mse.item(), \"  Test R-squared:\", 1 - mse.item() / np.var(y_test))"
   ]
  },
  {
   "cell_type": "code",
   "execution_count": 374,
   "metadata": {},
   "outputs": [
    {
     "name": "stdout",
     "output_type": "stream",
     "text": [
      "My Description: This white is both sour and bitter; it has a funny smell\n",
      "Predicted price:  11.787423133850098 \n",
      "\n",
      "My Description: the most amazing wine I have ever tasted\n",
      "Predicted price:  21.10090446472168 \n",
      "\n",
      "My Description: not bad at all; I would buy it again\n",
      "Predicted price:  15.844284057617188 \n",
      "\n",
      "My Description: actually quite bad; avoid if possible\n",
      "Predicted price:  11.518692016601562 \n",
      "\n",
      "My Description: great red and pretty cheap\n",
      "Predicted price:  11.09788703918457 \n",
      "\n",
      "My Description: great red but overpriced\n",
      "Predicted price:  18.13567543029785 \n",
      "\n",
      "My Description: great red and great price\n",
      "Predicted price:  19.601572036743164 \n",
      "\n"
     ]
    }
   ],
   "source": [
    "## \n",
    "\n",
    "my_reviews = [\"This white is both sour and bitter; it has a funny smell\",\n",
    "                \"the most amazing wine I have ever tasted\",\n",
    "                \"not bad at all; I would buy it again\",\n",
    "                \"actually quite bad; avoid if possible\",\n",
    "                \"great red and pretty cheap\",\n",
    "                \"great red but overpriced\",\n",
    "                \"great red and great price\"]\n",
    "\n",
    "for my_review in my_reviews:\n",
    "\n",
    "    token_res = tokenizer(my_review, return_tensors='pt')\n",
    "\n",
    "    pred = model(token_res['input_ids'], token_res['attention_mask'])\n",
    "    \n",
    "    print(\"My Description:\", my_review)\n",
    "    print(\"Predicted price: \", torch.exp(pred).item(), '\\n')"
   ]
  },
  {
   "cell_type": "markdown",
   "metadata": {},
   "source": [
    "### Some useful resources for learning BERT\n",
    "- https://towardsdatascience.com/text-classification-with-bert-in-pytorch-887965e5820f\n",
    "- https://medium.com/@khang.pham.exxact/text-classification-with-bert-7afaacc5e49b\n",
    "- https://colab.research.google.com/drive/1pxc-ehTtnVM72-NViET_D2ZqOlpOi2LH?usp=sharing#scrollTo=SH_MAK-soD4F\n",
    "\n"
   ]
  }
 ],
 "metadata": {
  "kernelspec": {
   "display_name": "msds2",
   "language": "python",
   "name": "python3"
  },
  "language_info": {
   "codemirror_mode": {
    "name": "ipython",
    "version": 3
   },
   "file_extension": ".py",
   "mimetype": "text/x-python",
   "name": "python",
   "nbconvert_exporter": "python",
   "pygments_lexer": "ipython3",
   "version": "3.10.13"
  },
  "orig_nbformat": 4
 },
 "nbformat": 4,
 "nbformat_minor": 2
}
